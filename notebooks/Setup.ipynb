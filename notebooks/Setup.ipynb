{
 "cells": [
  {
   "cell_type": "markdown",
   "metadata": {},
   "source": [
    "# Machine Learning and Statistics for Physicists"
   ]
  },
  {
   "cell_type": "markdown",
   "metadata": {},
   "source": [
    "Material for a [UC Irvine](https://uci.edu/) course offered by the [Department of Physics and Astronomy](https://www.physics.uci.edu/).\n",
    "\n",
    "Content is maintained on [github](github.com/dkirkby/MachineLearningStatistics) and distributed under a [BSD3 license](https://opensource.org/licenses/BSD-3-Clause).\n",
    "\n",
    "[Table of contents](Contents.ipynb)"
   ]
  },
  {
   "cell_type": "markdown",
   "metadata": {},
   "source": [
    "## Prerequisites"
   ]
  },
  {
   "cell_type": "markdown",
   "metadata": {},
   "source": [
    "- [Create a github account](https://github.com/join) if you don't already have one.\n",
    "- [Install the git command-line tools](https://git-scm.com/downloads) on your computer, if necessary.\n",
    "- Install the python 3.6 version of [anaconda](https://www.anaconda.com/download/) on your computer, if necessary.\n",
    "\n",
    "This course assumes a basic familiarity with the core python language. If you are rusty or still learning, I recommend the free ebook [A Whirlwind Tour of Python](http://www.oreilly.com/programming/free/a-whirlwind-tour-of-python.csp), which is *\"a fast-paced introduction to essential components of the Python language for researchers and developers who are already familiar with programming in another language\"*.\n",
    "\n",
    "If you are currently using python 2.x and reluctant to move to python 3, read [this](https://wiki.python.org/moin/Python2orPython3) and [this](http://www.python3statement.org/).\n",
    "\n",
    "No previous experience with git or github is necessary for this course (but they are useful research tools so worth learning - [here](https://guides.github.com/introduction/git-handbook/) is a good starting point).  If you are finding the git learning curve to be steep, you are [not alone](https://explainxkcd.com/wiki/index.php/1597:_Git)."
   ]
  },
  {
   "cell_type": "markdown",
   "metadata": {},
   "source": [
    "## Create the course python environment"
   ]
  },
  {
   "cell_type": "markdown",
   "metadata": {},
   "source": [
    "We will use the [conda command](https://conda.io/docs/commands.html) to create a standard [python environment](https://conda.io/docs/user-guide/tasks/manage-environments.html) for this course. These instructions assume that you have already satisfied the prerequisites."
   ]
  },
  {
   "cell_type": "markdown",
   "metadata": {},
   "source": [
    "Create a new environment by entering (or pasting) the following command at a shell prompt. **Enter the command on one line**, even though it appears on two lines below:\n",
    "```\n",
    "conda create -n MLS python=3.6 pip ipython jupyter numpy scipy pandas\n",
    "  matplotlib seaborn scikit-learn hdf5 pytables pillow\n",
    "```\n",
    "Activate the new environment using (this should add \"(MLS)\" to your command prompt, as a reminder of your current environment):\n",
    "```\n",
    "source activate MLS\n",
    "```\n",
    "Add some additional packages from other sources (details [here](https://github.com/ipython-contrib/jupyter_contrib_nbextensions#conda) and [here](https://github.com/ipython-contrib/jupyter_contrib_nbextensions/issues/1153)):\n",
    "```\n",
    "conda install -c conda-forge libiconv jupyter_contrib_nbextensions\n",
    "conda install -c astropy emcee astroml\n",
    "pip install wpca autograd tensorflow edward\n",
    "```\n",
    "Enable a jupyter notebook [extension](https://github.com/ipython-contrib/jupyter_contrib_nbextensions/tree/master/src/jupyter_contrib_nbextensions/nbextensions/exercise2) we will use for in-class exercises:\n",
    "```\n",
    "jupyter nbextension enable exercise2/main\n",
    "```"
   ]
  },
  {
   "cell_type": "markdown",
   "metadata": {},
   "source": [
    "In case something goes wrong with your installation and you want to start again, use:\n",
    "```\n",
    "conda remove --name MLS --all\n",
    "```\n",
    "You will need to shutdown any jupyter sessions with the old environment first."
   ]
  },
  {
   "cell_type": "markdown",
   "metadata": {},
   "source": [
    "## Install course material"
   ]
  },
  {
   "cell_type": "markdown",
   "metadata": {},
   "source": [
    "Clone the course material from github with the following command, which will create a subdirectory called `MachineLearningStatistics`:\n",
    "```\n",
    "git clone https://github.com/dkirkby/MachineLearningStatistics.git\n",
    "```\n",
    "This should ask you for your github username and password (but you can streamline future [github access using ssh](https://help.github.com/articles/which-remote-url-should-i-use/)).\n",
    "\n",
    "Activate the course environment, if necessary (check your command prompt, but it doesn't do any harm to reactivate the current environment):\n",
    "```\n",
    "source activate MLS\n",
    "```\n",
    "Install the course code and data using:\n",
    "```\n",
    "cd MachineLearningStatistics\n",
    "pip install .\n",
    "```"
   ]
  },
  {
   "cell_type": "markdown",
   "metadata": {},
   "source": [
    "## Launch notebook server"
   ]
  },
  {
   "cell_type": "markdown",
   "metadata": {},
   "source": [
    "To launch the [notebook server](http://jupyter-notebook.readthedocs.io/en/stable/notebook.html) at any time, you can now use:\n",
    "```\n",
    "[[MachineLearningStatistics]]\n",
    "source activate MLS\n",
    "cd notebooks\n",
    "jupyter notebook\n",
    "```\n",
    "Note that `[[MachineLearningStatistics]]` is a reminder that you must be in your `MachineLearningStatistics` directory before typing the following commands.  If you are unsure about this, refer to the [pwd](http://www.linfo.org/pwd.html) and [cd](http://www.linfo.org/cd.html) commands.\n",
    "\n",
    "**Windows users:** Wherever you see `source activate MLS`, use `activate MLS` instead.  Details [here](https://conda.io/docs/user-guide/tasks/manage-environments.html#activating-an-environment).\n",
    "\n",
    "Click on `Contents.ipynb` if this is your first time doing this, to check that you can view a notebook.\n",
    "\n",
    "*(For git experts: you will normally be working on the master branch to simplify the workflow. This means that your local work must be discarded or saved to another branch each time you update, using the instructions below).*"
   ]
  },
  {
   "cell_type": "markdown",
   "metadata": {},
   "source": [
    "## Update course material"
   ]
  },
  {
   "cell_type": "markdown",
   "metadata": {},
   "source": [
    "You can skip this section if you are installing for the first time, but remember these instructions for later.\n",
    "\n",
    "The first step is to \"factory reset\" your installation before getting the updates. The simplest method is to throw away any changes you have made using:\n",
    "```\n",
    "[[MachineLearningStatistics]]\n",
    "git checkout master\n",
    "git reset --hard\n",
    "```\n",
    "Alternatively, you can keep a permanent record of your changes in a [git branch](https://git-scm.com/book/en/v2/Git-Branching-Branches-in-a-Nutshell) with a name of your choice, for example \"08-Jan-2018\":\n",
    "```\n",
    "[[MachineLearningStatistics]]\n",
    "git checkout -b \"08-Jan-2018\"\n",
    "git commit -a -m \"Save work in progress\"\n",
    "git checkout master\n",
    "```\n",
    "\n",
    "The second step is to download the changes from github:\n",
    "```\n",
    "[[MachineLearningStatistics]]\n",
    "git pull\n",
    "```\n",
    "If this commands reports `Already up-to-date.` then there are no updates to download.\n",
    "\n",
    "The final step is to update your local python environment:\n",
    "```\n",
    "[[MachineLearningStatistics]]\n",
    "source activate MLS\n",
    "pip install . --upgrade\n",
    "```"
   ]
  }
 ],
 "metadata": {
  "kernelspec": {
   "display_name": "Python 3",
   "language": "python",
   "name": "python3"
  },
  "language_info": {
   "codemirror_mode": {
    "name": "ipython",
    "version": 3
   },
   "file_extension": ".py",
   "mimetype": "text/x-python",
   "name": "python",
   "nbconvert_exporter": "python",
   "pygments_lexer": "ipython3",
   "version": "3.6.4"
  }
 },
 "nbformat": 4,
 "nbformat_minor": 2
}
