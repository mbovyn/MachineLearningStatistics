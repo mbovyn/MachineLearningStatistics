{
 "cells": [
  {
   "cell_type": "markdown",
   "metadata": {},
   "source": [
    "# Machine Learning and Statistics for Physicists"
   ]
  },
  {
   "cell_type": "markdown",
   "metadata": {},
   "source": [
    "Material for a [UC Irvine](https://uci.edu/) course offered by the [Department of Physics and Astronomy](https://www.physics.uci.edu/).\n",
    "\n",
    "Content is maintained on [github](github.com/dkirkby/MachineLearningStatistics) and distributed under a [BSD3 license](https://opensource.org/licenses/BSD-3-Clause).\n",
    "\n",
    "[Table of contents](Contents.ipynb)"
   ]
  },
  {
   "cell_type": "code",
   "execution_count": 1,
   "metadata": {},
   "outputs": [],
   "source": [
    "%matplotlib inline\n",
    "import matplotlib.pyplot as plt\n",
    "import seaborn as sns; sns.set()\n",
    "import numpy as np\n",
    "import pandas as pd"
   ]
  },
  {
   "cell_type": "code",
   "execution_count": 2,
   "metadata": {},
   "outputs": [],
   "source": [
    "import scipy.stats"
   ]
  },
  {
   "cell_type": "code",
   "execution_count": 3,
   "metadata": {},
   "outputs": [],
   "source": [
    "import tensorflow as tf"
   ]
  },
  {
   "cell_type": "code",
   "execution_count": 4,
   "metadata": {},
   "outputs": [],
   "source": [
    "import edward as ed\n",
    "import edward.models"
   ]
  },
  {
   "cell_type": "code",
   "execution_count": 5,
   "metadata": {},
   "outputs": [],
   "source": [
    "from sklearn import mixture"
   ]
  },
  {
   "cell_type": "markdown",
   "metadata": {},
   "source": [
    "## Bayesian Model Selection"
   ]
  },
  {
   "cell_type": "markdown",
   "metadata": {},
   "source": [
    "We [originally stated](Bayes.ipynb) Bayes' learning rule as:\n",
    "$$\n",
    "P(\\Theta_M\\mid D, M) = \\frac{P(D\\mid \\Theta_M, M)\\,P(\\Theta_M\\mid M)}{P(D\\mid M)}\n",
    "$$\n",
    "in terms of the:\n",
    " 1. **Posterior:** $P(\\Theta_M\\mid D, M)$ is the probability of the parameter values $\\Theta_M$ given the data and the choice of hyperparameters.\n",
    " 2. **Likelihood:** $P(D\\mid \\Theta_M, M)$ is the probability of the data given the model.\n",
    " 3. **Prior:** $P(\\Theta_M\\mid M)$ is the probability of the model parameters given the hyperparameters and *marginalized over all possible data*.\n",
    " 4. **Evidence:** $P(D\\mid M)$ is the probability of the data given the hyperparameters and *marginalized over all possible parameter values given the hyperparameters*.\n",
    "\n",
    "We often omit the model $M$ in our notation when we are only considering a single model. However, unless there is only one possible model, then we still have to solve a meta-inference problem of comparing possible models. Although this step is often referred to as \"model selection\", it is better to think of it as **model comparison**, since it can only assign relative probabilities to different models.\n",
    "\n",
    "The posterior probability of a model $M$ given the observed data $D$ is:\n",
    "$$\n",
    "P(M\\mid D) = \\frac{P(D\\mid M)\\,P(M)}{P(D)} \\; ,\n",
    "$$\n",
    "where the \"evidence\" given $M$, $P(D\\mid M)$, is now in the numerator, and the denominator is now a \"super evidence\":\n",
    "$$\n",
    "P(D) = \\int dM\\, P(D\\mid M)\\,P(M) \\; .\n",
    "$$\n",
    "In case of a countable (perhaps infinite) set of possible models, the integral becomes a sum,\n",
    "$$\n",
    "P(D) = \\sum_k \\, P(D\\mid M_k)\\, P(M_k) \\; ,\n",
    "$$\n",
    "and each \"model likelihood\" $P(D\\mid M_k)$ is a probability in the range $[0,1]$. We have also introduced a prior $P(M)$ on the model itself, marginalized over its parameter space:\n",
    "$$\n",
    "P(M) = \\int d\\Theta_M\\, P(\\Theta_M, M) \\; .\n",
    "$$\n",
    "Note the similarity between this \"Bayes' rule for models\" and the original Bayes' rule.\n",
    "\n",
    "We can now anticipate two problems for practical model comparisons:\n",
    " - We were able to perform inference for a given model without ever calculating its evidence $P(D\\mid M)$, but that is no longer possible for model comparison.\n",
    " - To calculate the \"super evidence\" we must be able to specify *all possible models*.\n",
    " \n",
    "However, we can sidestep the second problem if we only want to compare two possible models, $M_1$ and $M_2$, without specifying (or perhaps even knowing) the set of possible models. We use the **odds ratio** for this comparison,\n",
    "$$\n",
    "\\text{odds ratio =}\\quad\n",
    "\\frac{P(M_1\\mid D)}{P(M_2\\mid D)} = \\frac{P(D\\mid M_1)\\, P(M_1)}{P(D\\mid M_2)\\,P(M_2)} \\; ,\n",
    "$$\n",
    "where, conveniently, the \"super evidence\" $P(D)$ cancels in the ratio. The ratio of \"model likelihoods\" appearing on the right-hand side is known as the **Bayes factor**:\n",
    "$$\n",
    "\\text{Bayes factor =}\\quad\n",
    "\\frac{P(D\\mid M_1)}{P(D\\mid M_2)} \\; .\n",
    "$$\n",
    "\n",
    "It is easy to lose sight of the big picture with all of this probability calculus, so let's zoom out to a simple example:"
   ]
  },
  {
   "cell_type": "markdown",
   "metadata": {},
   "source": [
    "![Occam factor example](img/ModelSelection/OccamFactor.jpg)"
   ]
  },
  {
   "cell_type": "markdown",
   "metadata": {
    "solution2": "hidden",
    "solution2_first": true
   },
   "source": [
    "**DISCUSS:** Study the observed image $D$ above with two models in mind:\n",
    " - $M_1$: The image shows a single piece of paper.\n",
    " - $M_2$: The image shows two pieces of paper.\n",
    "\n",
    "Are both models possible? Give some arguments for why $M_2$ is unlikely. Are your arguments based on prior knowledge?"
   ]
  },
  {
   "cell_type": "markdown",
   "metadata": {
    "solution2": "hidden"
   },
   "source": [
    "Both models are certainly possible since the ruler could be hiding the fact that these are two pieces of paper side by side.\n",
    "\n",
    "However, $M_2$ is unlikely because:\n",
    " - This looks like a standard (US) sheet of paper, as supported its dimensions according to the ruler.\n",
    " - It would be a remarkable coincidence for two sheets of paper to be perfectly lined up like this.\n",
    " \n",
    "The first argument is based on our prior knowledge, such as:\n",
    " - Standard (US) paper has the proportions 8.5 to 11.\n",
    " - Most (US) rulers are in inches.\n",
    " \n",
    "Therefore, this type of argument shows up in the ratio of model priors, $P(M_1) / P(M_2)$ in the odds ratio above.\n",
    " \n",
    "However, the second argument is a statement about probabilities that does not rely on any prior knowledge. Instead, it shows up in the Bayes factor above. To see how this happens, we need to define the parameters for each model. For each piece of paper, use four parameters:\n",
    " - $(x,y)$ of the top-left corner, which could be anywhere in the image.\n",
    " - width $w$ and height $h$ of the paper, which range over the full image width and height.\n",
    " \n",
    "The likelihoods of $M_1$ and $M_2$ are then integrals over four and eight parameters, respectively:\n",
    "$$\n",
    "P(D\\mid M_i) = \\int d\\Theta_i\\, P(D, \\Theta_i\\mid M_i) \\; .\n",
    "$$\n",
    "For $M_2$, the likelihood of the observed image $D$ will be zero except when the parameters of the second piece of paper have it line up perfectly under the ruler. Since this represents a small fraction of the full range of $M_2$ parameters, $P(D\\mid M_2)$ is heavily penalized compared with $P(D\\mid M_1)$, leading to a large Bayes factor.\n",
    "\n",
    "This is an example of [Occam's razor](https://en.wikipedia.org/wiki/Occam's_razor) in action: Bayesian inference prefers the simplest explanation (model), independently of any prior knowledge.\n",
    "\n",
    "---"
   ]
  },
  {
   "cell_type": "markdown",
   "metadata": {},
   "source": [
    "## Case Study: How Many Peaks?"
   ]
  },
  {
   "cell_type": "markdown",
   "metadata": {},
   "source": [
    "Generate some random samples of a single feature $x$ drawn from a mixture of two Gaussians:"
   ]
  },
  {
   "cell_type": "code",
   "execution_count": 6,
   "metadata": {},
   "outputs": [],
   "source": [
    "def generate_mix(n_total, frac1, mu1, mu2, sigma1, sigma2, seed=123, plot_range=(-1.5, 1.5)):\n",
    "    gen = np.random.RandomState(seed=seed)\n",
    "    # Assign each sample to one of the peaks.\n",
    "    idx = scipy.stats.bernoulli.rvs(1 - frac1, size=n_total, random_state=gen)\n",
    "    # Set the Gaussian parameters for each sample.\n",
    "    mu = np.array([mu1, mu2])[idx]\n",
    "    sigma = np.array([sigma1, sigma2])[idx]\n",
    "    # Generate each sample.\n",
    "    X = scipy.stats.norm.rvs(mu, sigma, random_state=gen)\n",
    "    # Optional plot.\n",
    "    if plot_range:\n",
    "        bins = np.linspace(*plot_range, 30)\n",
    "        plt.hist(X, bins, histtype='stepfilled', alpha=0.5, normed=True)\n",
    "        plt.hist(X, bins, histtype='step', color='k', lw=1, normed=True)\n",
    "        grid = np.linspace(*plot_range, 201)\n",
    "        if frac1 > 0:\n",
    "            pdf1 = scipy.stats.norm.pdf(grid, mu1, sigma1)\n",
    "            plt.plot(grid, frac1 * pdf1, lw=2)\n",
    "        if frac1 < 1:\n",
    "            pdf2 = scipy.stats.norm.pdf(grid, mu2, sigma2)\n",
    "            plt.plot(grid, (1 - frac1) * pdf2, lw=2)\n",
    "        plt.show()\n",
    "    return X"
   ]
  },
  {
   "cell_type": "code",
   "execution_count": 7,
   "metadata": {},
   "outputs": [
    {
     "data": {
      "image/png": "[encoded data removed]",
      "text/plain": [
       "<matplotlib.figure.Figure at 0x1a17bc6550>"
      ]
     },
     "metadata": {},
     "output_type": "display_data"
    }
   ],
   "source": [
    "n_gen = 200\n",
    "Da = generate_mix(n_gen, 1.0, 0.0, np.nan, 0.5, np.nan) # nan values are never used"
   ]
  },
  {
   "cell_type": "code",
   "execution_count": 8,
   "metadata": {},
   "outputs": [
    {
     "data": {
      "image/png": "[encoded data removed]",
      "text/plain": [
       "<matplotlib.figure.Figure at 0x1a17bc6400>"
      ]
     },
     "metadata": {},
     "output_type": "display_data"
    }
   ],
   "source": [
    "Db = generate_mix(n_gen, 0.5, -0.3, 0.3, 0.1, 0.3)"
   ]
  },
  {
   "cell_type": "code",
   "execution_count": 9,
   "metadata": {},
   "outputs": [
    {
     "data": {
      "image/png": "[encoded data removed]",
      "text/plain": [
       "<matplotlib.figure.Figure at 0x1a20b61780>"
      ]
     },
     "metadata": {},
     "output_type": "display_data"
    }
   ],
   "source": [
    "Dc = generate_mix(n_gen, 0.5, -0.3, 0.3, 0.4, 0.4)"
   ]
  },
  {
   "cell_type": "markdown",
   "metadata": {},
   "source": [
    "Note that each sample has an integer number of entries drawn from each Gaussian, so the true `frac1` is only realized on average.\n",
    "\n",
    "We will compare two models to explain this data:\n",
    " - M1: A single Gaussian with unknown mean $\\mu$ and sigma $\\sigma$.\n",
    " - M2: Two Gaussians with equal proportions (`frac1=0.5`), means with a fixed separation $\\mu_2 - \\mu_1 = 0.6$, and unknown sigmas $\\sigma_1$, $\\sigma_2$.\n",
    " \n",
    "Note that Da is drawn from M1 and Db, Dc are drawn from M2."
   ]
  },
  {
   "cell_type": "markdown",
   "metadata": {
    "solution2": "hidden",
    "solution2_first": true
   },
   "source": [
    "**DISCUSS:** For each of these three datasets, predict whether the Bayes' factor for M1 relative to M2 will be:\n",
    " - Much larger than 1, i.e., strongly favoring M1.\n",
    " - About 1, i.e. unable to discriminate between M1 and M2 based on the data alone.\n",
    " - Much smaller than 1, i.e., strongly favoring M2.\n",
    " \n",
    "Explain your reasoning."
   ]
  },
  {
   "cell_type": "markdown",
   "metadata": {
    "solution2": "hidden"
   },
   "source": [
    "Da should strongly favor M1 since the fixed separation of the M2 means makes it very unlikely to have been generated by M2.\n",
    "\n",
    "Db should very strongly favor M2, since no reasonable statistical fluctuation of M1 would ever reproduce it.\n",
    "\n",
    "Dc should be unable to discriminate between M1 and M2 since, although it was produced by M2, M1 might produce data like this with the right statistical fluctuations.\n",
    "\n",
    "[Jeffreys proposed a scale](https://en.wikipedia.org/wiki/Bayes_factor#Interpretation) for thresholds in the Bayes' factor:\n",
    " - larger than 100 is \"decisive evidence\" in favor of M1.\n",
    " - larger than 10 is \"strong evidence\" in favor of M1.\n",
    " - smaller than 0.1 is \"strong evidence\" in favor of M2.\n",
    " - smaller than 0.01 is \"decisive evidence\" in favor of M2.\n",
    "\n",
    "---"
   ]
  },
  {
   "cell_type": "markdown",
   "metadata": {},
   "source": [
    "To compare models for given data $D$, we perform the following steps for each candidate model $M$:\n",
    " - Perform a Bayesian inference with HMC assuming $M$ to obtain samples of $(\\mu, \\sigma)$ drawn from the posterior $P(\\theta\\mid D, M)$.\n",
    " - Construct a density estimate of the posterior using the generated samples.\n",
    " - Estimate the evidence $P(D\\mid M)$ for $D$ given $M$ using the density estimate.\n",
    "\n",
    "Once we have estimated the evidence for each model, we can calculate the Bayes' factor for any pair of models.\n",
    "\n",
    "The final step is to assign relative prior probabilities for each model in order to calculate the odds ratios."
   ]
  },
  {
   "cell_type": "markdown",
   "metadata": {},
   "source": [
    "The following parameter ranges are enforced by setting the prior probability to zero outside these ranges:\n",
    " - M1: $|\\mu| \\le 1$ and $0.05 \\le \\sigma \\le 1.0$.\n",
    " - M2: $|\\mu| \\le 1$ and $0.05 \\le \\sigma_i \\le 1.0$, with $\\mu \\equiv (\\mu_1 + \\mu_2) / 2$."
   ]
  },
  {
   "cell_type": "code",
   "execution_count": null,
   "metadata": {},
   "outputs": [],
   "source": [
    "mu_range = (-1., +1.)\n",
    "sigma_range = (0.05, 1.0)"
   ]
  },
  {
   "cell_type": "markdown",
   "metadata": {},
   "source": [
    "The code below to calculate the evidence assuming M1 is quite involved, and brings together several topics we have met already:\n",
    " - Bayesian inference.\n",
    " - Tensorflow and Edward frameworks.\n",
    " - Hamiltonian Markov-chain Monte Carlo.\n",
    " - Density estimation.\n",
    " - Evidence estimation with MCMC samples.\n",
    " \n",
    "Do not worry about the details, at least until you need to perform a similar calculation yourself!"
   ]
  },
  {
   "cell_type": "code",
   "execution_count": null,
   "metadata": {},
   "outputs": [],
   "source": [
    "def calculate_M1_evidence(D, n_mc=2000, n_grid=50, seed=123):\n",
    "    # --------------------------------------------------------------------------\n",
    "    # Pick intial point for MCMC chains based on the data.\n",
    "    # --------------------------------------------------------------------------\n",
    "    lo, med, hi = np.percentile(D, (16, 50, 84))\n",
    "    mu_init = np.float32(med)\n",
    "    t_init = np.float32(np.log(0.5 * (hi - lo)))\n",
    "    # --------------------------------------------------------------------------\n",
    "    # Build the graph for this inference.\n",
    "    # --------------------------------------------------------------------------\n",
    "    M1_graph = tf.Graph()\n",
    "    with M1_graph.as_default():\n",
    "        mu = ed.models.Uniform(*mu_range)\n",
    "        t = ed.models.Uniform(*np.log(sigma_range, dtype=np.float32))\n",
    "        X = ed.models.Normal(loc=tf.fill(D.shape, mu), scale=tf.fill(D.shape, tf.exp(t)))\n",
    "        mc_mu = ed.models.Empirical(params=tf.Variable(tf.fill((n_mc,), mu_init)))\n",
    "        mc_t = ed.models.Empirical(params=tf.Variable(tf.fill((n_mc,), t_init)))\n",
    "    # --------------------------------------------------------------------------\n",
    "    # Run the inference using HMC to generate samples.\n",
    "    # --------------------------------------------------------------------------\n",
    "    with tf.Session(graph=M1_graph) as session:\n",
    "        tf.set_random_seed(seed)\n",
    "        inference = ed.HMC({mu: mc_mu, t: mc_t}, data={X: D})\n",
    "        inference.run(step_size=0.01, n_steps=10)\n",
    "        mu_samples, t_samples = session.run([mc_mu.params, mc_t.params])\n",
    "    # Create a dataframe of the generated samples.\n",
    "    samples = pd.DataFrame({'mu': mu_samples, 'sigma': np.exp(t_samples)})\n",
    "    # --------------------------------------------------------------------------\n",
    "    # Build a parameter grid for estimating the evidence.\n",
    "    # --------------------------------------------------------------------------\n",
    "    mu_grid = np.linspace(*np.percentile(mu_samples, (0.5, 99.5)), n_grid)\n",
    "    sigma_grid = np.linspace(*np.exp(np.percentile(t_samples, (0.5, 99.5))), n_grid)\n",
    "    # --------------------------------------------------------------------------\n",
    "    # Evaluate the posterior numerator P(D|mu,sigma) P(mu,sigma) on the grid.\n",
    "    # --------------------------------------------------------------------------\n",
    "    sigma_ = sigma_grid.reshape(-1, 1)\n",
    "    D_ = D.reshape(-1, 1, 1)\n",
    "    log_numerator_grid = scipy.stats.norm.logpdf(D_, mu_grid, sigma_).sum(axis=0)\n",
    "    log_numerator_grid -= np.log(sigma_)\n",
    "    # --------------------------------------------------------------------------\n",
    "    # Estimate the posterior density from the generated samples with a GMM.\n",
    "    # --------------------------------------------------------------------------\n",
    "    fit = mixture.GaussianMixture(n_components=1).fit(samples)\n",
    "    # --------------------------------------------------------------------------\n",
    "    # Evaluate the density on the grid.\n",
    "    # --------------------------------------------------------------------------\n",
    "    log_density_grid = np.empty((n_grid, n_grid))\n",
    "    for i1, mu_value in enumerate(mu_grid):\n",
    "        for i2, sigma_value in enumerate(sigma_grid):\n",
    "            log_density_grid[i2, i1] = fit.score_samples([[mu_value, sigma_value]])[0]\n",
    "    # --------------------------------------------------------------------------\n",
    "    # Use the the 25% of grid points with the largest numerator for the evidence estimate.\n",
    "    # --------------------------------------------------------------------------\n",
    "    log_numerator_cut = np.percentile(log_numerator_grid, 75)\n",
    "    use = log_numerator_grid > log_numerator_cut\n",
    "    log_evidence = np.median((log_numerator_grid - log_density_grid)[use])\n",
    "    # --------------------------------------------------------------------------\n",
    "    # Summarize the results with a plot\n",
    "    # --------------------------------------------------------------------------\n",
    "    fig, ax = plt.subplots(1, 2, figsize=(12, 5))\n",
    "    ax[0].scatter(samples['mu'], samples['sigma'], s=5, lw=0, c='k')\n",
    "    ax[0].contour(mu_grid, sigma_grid, np.max(log_numerator_grid) - log_numerator_grid,\n",
    "                  levels=[1, 2, 4, 8], colors='k', linewidths=2, linestyles='-')\n",
    "    ax[0].contour(mu_grid, sigma_grid, np.max(log_density_grid) - log_density_grid,\n",
    "                  levels=[1, 2, 4, 8], colors='r', linewidths=2, linestyles='--')\n",
    "    ax[0].set_xlim(mu_grid[0], mu_grid[-1])\n",
    "    ax[0].set_ylim(sigma_grid[0], sigma_grid[-1])\n",
    "    ax[0].set_xlabel('$\\mu$')\n",
    "    ax[0].set_ylabel('$\\sigma$')\n",
    "    ax[1].scatter(log_numerator_grid.flatten(),\n",
    "                  (log_numerator_grid - log_density_grid).flatten(),\n",
    "                  s=5, lw=0, c='r')\n",
    "    ax[1].scatter(log_numerator_grid[use].flatten(),\n",
    "                  (log_numerator_grid - log_density_grid)[use].flatten(),\n",
    "                  s=5, lw=0, c='g')\n",
    "    ax[1].axhline(log_evidence, c='g')\n",
    "    ax[1].set_xlabel('$\\log P(D\\mid \\mu,\\sigma, M_1) + \\log P(\\mu,\\sigma\\mid M_1)$')\n",
    "    ax[1].set_ylabel('$\\log P(D\\mid M_1)$')\n",
    "    plt.subplots_adjust(wspace=0.22)\n",
    "    return log_evidence"
   ]
  },
  {
   "cell_type": "code",
   "execution_count": null,
   "metadata": {},
   "outputs": [],
   "source": [
    "E_Da_M1 = calculate_M1_evidence(Da)"
   ]
  },
  {
   "cell_type": "code",
   "execution_count": null,
   "metadata": {},
   "outputs": [],
   "source": [
    "E_Db_M1 = calculate_M1_evidence(Db)"
   ]
  },
  {
   "cell_type": "code",
   "execution_count": null,
   "metadata": {},
   "outputs": [],
   "source": [
    "E_Dc_M1 = calculate_M1_evidence(Dc)"
   ]
  },
  {
   "cell_type": "code",
   "execution_count": null,
   "metadata": {},
   "outputs": [],
   "source": [
    "def calculate_M2_evidence(D, n_mc=5000, n_grid=25, seed=123, dmu=0.3):\n",
    "    # --------------------------------------------------------------------------\n",
    "    # Pick starting point for MCMC chains based on the data.\n",
    "    # --------------------------------------------------------------------------\n",
    "    lo, med, hi = np.percentile(D, (16, 50, 84))\n",
    "    mu_init = np.float32(med)\n",
    "    t_init = np.float32(np.log(0.3 * (hi - lo)))\n",
    "    # --------------------------------------------------------------------------\n",
    "    # Build the graph for this inference.\n",
    "    # --------------------------------------------------------------------------\n",
    "    M1_graph = tf.Graph()\n",
    "    with M1_graph.as_default():\n",
    "        mu = ed.models.Uniform(*mu_range)\n",
    "        t1 = ed.models.Uniform(*np.log(sigma_range, dtype=np.float32))\n",
    "        t2 = ed.models.Uniform(*np.log(sigma_range, dtype=np.float32))\n",
    "        X1 = ed.models.Normal(loc=tf.fill(D.shape, mu - dmu), scale=tf.fill(D.shape, tf.exp(t1)))\n",
    "        X2 = ed.models.Normal(loc=tf.fill(D.shape, mu + dmu), scale=tf.fill(D.shape, tf.exp(t2)))\n",
    "        X = ed.models.Mixture(\n",
    "            cat=ed.models.Categorical(probs=np.full(D.shape + (2,), 0.5, dtype=np.float32)),\n",
    "            components=[X1, X2])\n",
    "        mc_mu = ed.models.Empirical(params=tf.Variable(tf.fill((n_mc,), mu_init)))\n",
    "        mc_t1 = ed.models.Empirical(params=tf.Variable(tf.fill((n_mc,), t_init)))\n",
    "        mc_t2 = ed.models.Empirical(params=tf.Variable(tf.fill((n_mc,), t_init)))\n",
    "    # --------------------------------------------------------------------------\n",
    "    # Run the inference using HMC to generate samples.\n",
    "    # --------------------------------------------------------------------------\n",
    "    with tf.Session(graph=M1_graph) as session:\n",
    "        tf.set_random_seed(seed)\n",
    "        inference = ed.HMC({mu: mc_mu, t1: mc_t1, t2: mc_t2}, data={X: D})\n",
    "        inference.run(step_size=0.01, n_steps=10)\n",
    "        mu_samples, t1_samples, t2_samples = session.run([mc_mu.params, mc_t1.params, mc_t2.params])\n",
    "    samples = pd.DataFrame({'mu': mu_samples, 'sigma1': np.exp(t1_samples), 'sigma2': np.exp(t2_samples)})\n",
    "    # --------------------------------------------------------------------------\n",
    "    # Build a parameter grid for estimating the evidence.\n",
    "    # --------------------------------------------------------------------------\n",
    "    mu_grid = np.linspace(*np.percentile(mu_samples, (0.5, 99.5)), n_grid)\n",
    "    sigma1_grid = np.linspace(*np.exp(np.percentile(t1_samples, (0.5, 99.5))), n_grid)\n",
    "    sigma2_grid = np.linspace(*np.exp(np.percentile(t2_samples, (0.5, 99.5))), n_grid)\n",
    "    # --------------------------------------------------------------------------\n",
    "    # Evaluate the posterior numerator P(D|mu,sigma1,sigma2) P(mu,sigma1,sigma2) on the grid.\n",
    "    # --------------------------------------------------------------------------\n",
    "    mu1_, mu2_ = mu_grid - dmu, mu_grid + dmu\n",
    "    sigma1_ = sigma1_grid.reshape(-1, 1)\n",
    "    sigma2_ = sigma2_grid.reshape(-1, 1, 1)\n",
    "    D_ = D.reshape(-1, 1, 1, 1)\n",
    "    log_numerator_grid = np.log(0.5 * (\n",
    "        scipy.stats.norm.pdf(D_, mu1_, sigma1_) +\n",
    "        scipy.stats.norm.pdf(D_, mu2_, sigma2_))).sum(axis=0)\n",
    "    log_numerator_grid -= np.log(sigma1_) + np.log(sigma2_)\n",
    "    # --------------------------------------------------------------------------\n",
    "    # Calculate projections onto each pair of parameters with numerical 1D integration.\n",
    "    # --------------------------------------------------------------------------\n",
    "    numerator_grid = np.exp(log_numerator_grid)\n",
    "    proj_mu_sigma1 = np.log(np.trapz(numerator_grid, sigma2_grid, axis=0))\n",
    "    proj_mu_sigma2 = np.log(np.trapz(numerator_grid, sigma1_grid, axis=1))\n",
    "    proj_sigma1_sigma2 = np.log(np.trapz(numerator_grid, mu_grid, axis=2))\n",
    "    # --------------------------------------------------------------------------\n",
    "    # Estimate the posterior density from the generated samples with a GMM.\n",
    "    # --------------------------------------------------------------------------\n",
    "    fit = mixture.GaussianMixture(n_components=3).fit(samples)\n",
    "    # --------------------------------------------------------------------------\n",
    "    # Evaluate the density on the grid.\n",
    "    # --------------------------------------------------------------------------\n",
    "    log_density_grid = np.empty((n_grid, n_grid, n_grid))\n",
    "    for i1, mu_value in enumerate(mu_grid):\n",
    "        for i2, sigma1_value in enumerate(sigma1_grid):\n",
    "            for i3, sigma2_value in enumerate(sigma2_grid):\n",
    "                log_density_grid[i3, i2, i1] = fit.score_samples([[mu_value, sigma1_value, sigma2_value]])[0]\n",
    "    # --------------------------------------------------------------------------\n",
    "    # Calculate projections onto each pair of parameters with numerical 1D integration.\n",
    "    # --------------------------------------------------------------------------\n",
    "    density_grid = np.exp(log_density_grid)\n",
    "    dproj_mu_sigma1 = np.log(np.trapz(density_grid, sigma2_grid, axis=0))\n",
    "    dproj_mu_sigma2 = np.log(np.trapz(density_grid, sigma1_grid, axis=1))\n",
    "    dproj_sigma1_sigma2 = np.log(np.trapz(density_grid, mu_grid, axis=2))\n",
    "    # --------------------------------------------------------------------------\n",
    "    # Use the the 5% of grid points with the largest numerator for the evidence estimate.\n",
    "    # --------------------------------------------------------------------------\n",
    "    log_numerator_cut = np.percentile(log_numerator_grid, 95)\n",
    "    use = log_numerator_grid > log_numerator_cut\n",
    "    log_evidence = np.median((log_numerator_grid - log_density_grid)[use])\n",
    "    # --------------------------------------------------------------------------\n",
    "    # Summarize the results with a plot\n",
    "    # --------------------------------------------------------------------------\n",
    "    fig, ax = plt.subplots(2, 2, figsize=(12, 10))\n",
    "    ax = ax.flatten()\n",
    "    ax[0].scatter(samples['mu'], samples['sigma1'], s=3, lw=0, c='k')\n",
    "    ax[0].contour(mu_grid, sigma1_grid, np.max(proj_mu_sigma1) - proj_mu_sigma1,\n",
    "                  levels=[1, 2, 4, 8], colors='k', linewidths=2, linestyles='-')\n",
    "    ax[0].contour(mu_grid, sigma1_grid, np.max(dproj_mu_sigma1) - dproj_mu_sigma1,\n",
    "                  levels=[1, 2, 4, 8], colors='r', linewidths=2, linestyles='--')\n",
    "    ax[0].set_xlim(mu_grid[0], mu_grid[-1])\n",
    "    ax[0].set_ylim(sigma1_grid[0], sigma1_grid[-1])\n",
    "    ax[0].set_xlabel('$\\mu$')\n",
    "    ax[0].set_ylabel('$\\sigma_1$')\n",
    "    ax[2].scatter(samples['mu'], samples['sigma2'], s=3, lw=0, c='k')\n",
    "    ax[2].contour(mu_grid, sigma2_grid, np.max(proj_mu_sigma2) - proj_mu_sigma2,\n",
    "                  levels=[1, 2, 4, 8], colors='k', linewidths=2, linestyles='-')\n",
    "    ax[2].contour(mu_grid, sigma2_grid, np.max(dproj_mu_sigma2) - dproj_mu_sigma2,\n",
    "                  levels=[1, 2, 4, 8], colors='r', linewidths=2, linestyles='--')\n",
    "    ax[2].set_xlim(mu_grid[0], mu_grid[-1])\n",
    "    ax[2].set_ylim(sigma2_grid[0], sigma2_grid[-1])\n",
    "    ax[2].set_xlabel('$\\mu$')\n",
    "    ax[2].set_ylabel('$\\sigma_2$')\n",
    "    ax[3].scatter(samples['sigma1'], samples['sigma2'], s=3, lw=0, c='k')\n",
    "    ax[3].contour(sigma1_grid, sigma2_grid, np.max(proj_sigma1_sigma2) - proj_sigma1_sigma2,\n",
    "                  levels=[1, 2, 4, 8], colors='k', linewidths=2, linestyles='-')\n",
    "    ax[3].contour(sigma1_grid, sigma2_grid, np.max(dproj_sigma1_sigma2) - dproj_sigma1_sigma2,\n",
    "                  levels=[1, 2, 4, 8], colors='r', linewidths=2, linestyles='--')\n",
    "    ax[3].set_xlim(sigma1_grid[0], sigma1_grid[-1])\n",
    "    ax[3].set_ylim(sigma2_grid[0], sigma2_grid[-1])\n",
    "    ax[3].set_xlabel('$\\sigma_1$')\n",
    "    ax[3].set_ylabel('$\\sigma_2$')\n",
    "    ax[1].scatter(log_numerator_grid.flatten(),\n",
    "                  (log_numerator_grid - log_density_grid).flatten(),\n",
    "                  s=5, lw=0, c='r')\n",
    "    ax[1].scatter(log_numerator_grid[use].flatten(),\n",
    "                  (log_numerator_grid - log_density_grid)[use].flatten(),\n",
    "                  s=5, lw=0, c='g')\n",
    "    ax[1].axhline(log_evidence, c='g')\n",
    "    ax[1].set_xlabel('$\\log P(D\\mid \\mu,\\sigma_1,\\sigma_2, M_2) + \\log P(\\mu,\\sigma_1,\\sigma_2\\mid M_2)$')\n",
    "    ax[1].set_ylabel('$\\log P(D\\mid M_2)$')\n",
    "    plt.subplots_adjust(wspace=0.22)\n",
    "    \n",
    "    return log_evidence"
   ]
  },
  {
   "cell_type": "code",
   "execution_count": null,
   "metadata": {
    "scrolled": false
   },
   "outputs": [],
   "source": [
    "E_Da_M2 = calculate_M2_evidence(Da)"
   ]
  },
  {
   "cell_type": "code",
   "execution_count": null,
   "metadata": {},
   "outputs": [],
   "source": [
    "E_Db_M2 = calculate_M2_evidence(Db)"
   ]
  },
  {
   "cell_type": "code",
   "execution_count": null,
   "metadata": {},
   "outputs": [],
   "source": [
    "E_Dc_M2 = calculate_M2_evidence(Dc)"
   ]
  },
  {
   "cell_type": "markdown",
   "metadata": {},
   "source": [
    "Each of these involved calculations provides a single number, the estimated log of the evidence for $D$ given $M$,\n",
    "$$\n",
    "\\log P(D\\mid M)\n",
    "$$\n",
    "Note these are tiny numbers ($e^{-100} \\simeq 10^{-44}$), but it their difference that matters:\n",
    "$$\n",
    "\\text{Bayes' factor} = \\exp\\left[ \\log P(D\\mid M_1) - \\log P(D\\mid M_2)\\right] \\; .\n",
    "$$\n",
    "Finally, we apply our subjective prior weights for relative likelihood of M1 and M2 in the absence of any data to obtain the M1:M2 odds ratio:\n",
    "$$\n",
    "\\frac{P(M_1\\mid D)}{P(M_2\\mid D)} = (\\text{Bayes' factor}) \\times \\frac{P(M_1)}{P(M_2)} \\; .\n",
    "$$\n",
    "\n",
    "If we assume that M1 and M2 have equal a-priori weights, then the odds ratio equals the Bayes' factor:"
   ]
  },
  {
   "cell_type": "code",
   "execution_count": null,
   "metadata": {},
   "outputs": [],
   "source": [
    "def summarize(M1_prior=0.5, M2_prior=0.5):\n",
    "    results = pd.DataFrame({\n",
    "        'logM1': [E_Da_M1, E_Db_M1, E_Dc_M1],\n",
    "        'logM2': [E_Da_M2, E_Db_M2, E_Dc_M2]},\n",
    "        index=('Da', 'Db', 'Dc'))\n",
    "    results['Bayes'] = np.exp(results['logM1'] - results['logM2'])\n",
    "    results['Odds'] = results['Bayes'] * M1_prior / M2_prior\n",
    "    return results.round(2)\n",
    "    \n",
    "summarize()"
   ]
  },
  {
   "cell_type": "markdown",
   "metadata": {},
   "source": [
    "To summarize in words:\n",
    " - M1 is \"strongly\" (but not \"decisively\") by Da.\n",
    " - M2 is \"decisively\" supported by Db.\n",
    " - M2 is mildy supported by Dc, but the evidence is not \"strong\"."
   ]
  }
 ],
 "metadata": {
  "kernelspec": {
   "display_name": "Python 3",
   "language": "python",
   "name": "python3"
  },
  "language_info": {
   "codemirror_mode": {
    "name": "ipython",
    "version": 3
   },
   "file_extension": ".py",
   "mimetype": "text/x-python",
   "name": "python",
   "nbconvert_exporter": "python",
   "pygments_lexer": "ipython3",
   "version": "3.6.4"
  }
 },
 "nbformat": 4,
 "nbformat_minor": 2
}
