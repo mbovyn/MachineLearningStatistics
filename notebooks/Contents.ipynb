{
 "cells": [
  {
   "cell_type": "markdown",
   "metadata": {},
   "source": [
    "# Machine Learning and Statistics for Physicists"
   ]
  },
  {
   "cell_type": "markdown",
   "metadata": {},
   "source": [
    "Material for a [UC Irvine](https://uci.edu/) course offered by the [Department of Physics and Astronomy](https://www.physics.uci.edu/).\n",
    "\n",
    "Content is maintained on [github](github.com/dkirkby/MachineLearningStatistics) and distributed under a [BSD3 license](https://opensource.org/licenses/BSD-3-Clause)."
   ]
  },
  {
   "cell_type": "markdown",
   "metadata": {},
   "source": [
    "## Contents"
   ]
  },
  {
   "cell_type": "markdown",
   "metadata": {},
   "source": [
    "- [Setup your environment](Setup.ipynb)\n",
    "- [Reading list](References.ipynb)\n",
    "- [Homework assignments](Homework.ipynb)\n",
    "- [Course introduction](Intro.ipynb)\n",
    "- [Notebooks and numerical python](JupyterNumpy.ipynb)\n",
    "- [Handle data](Pandas.ipynb)\n",
    "- [Visualize data](Visualization.ipynb)\n",
    "- [Find structure in data](Clustering.ipynb)\n",
    "- [Measure and reduce dimensionality](Dimensionality.ipynb)\n",
    "- [Adapt linear methods to nonlinear problems](Nonlinear.ipynb)\n",
    "- [Estimate probability density](Density.ipynb)\n",
    "- [Probability theory](Probability.ipynb)\n",
    "- [Statistical methods](Statistics.ipynb)\n",
    "- [Bayesian statistics](Bayes.ipynb)\n",
    "- [Markov-chain Monte Carlo in practice](MCMC.ipynb)\n",
    "- [Stochastic processes and Markov-chain theory](Markov.ipynb)\n",
    "- [Variational inference](Variational.ipynb)\n",
    "- [Optimization](Optimization.ipynb)\n",
    "- [Frameworks for computational graphs and probabilistic programming](Frameworks.ipynb)\n",
    "- [Bayesian model selection](ModelSelection.ipynb)\n",
    "- [Learning in a probabilistic context](Learning.ipynb)\n",
    "- [Supervised learning in Scikit Learn](Supervised.ipynb)\n",
    "- [Cross validation](CrossValidation.ipynb)\n",
    "- [Neural networks](NeuralNetworks.ipynb)\n",
    "- [Deep learning](DeepLearning.ipynb)"
   ]
  }
 ],
 "metadata": {
  "kernelspec": {
   "display_name": "Python 3",
   "language": "python",
   "name": "python3"
  },
  "language_info": {
   "codemirror_mode": {
    "name": "ipython",
    "version": 3
   },
   "file_extension": ".py",
   "mimetype": "text/x-python",
   "name": "python",
   "nbconvert_exporter": "python",
   "pygments_lexer": "ipython3",
   "version": "3.6.4"
  }
 },
 "nbformat": 4,
 "nbformat_minor": 2
}
